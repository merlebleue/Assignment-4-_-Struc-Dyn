{
 "cells": [
  {
   "cell_type": "code",
   "execution_count": 1,
   "metadata": {},
   "outputs": [],
   "source": [
    "import warnings\n",
    "warnings.simplefilter(action='ignore', category=FutureWarning)\n",
    "\n",
    "from IPython.display import display, Markdown, Latex\n",
    "\n",
    "import numpy as np\n",
    "import pandas as pd \n",
    "\n",
    "import matplotlib.pyplot as plt \n",
    "import seaborn as sns\n",
    "import seaborn.objects as so\n",
    "\n",
    "sns.set_theme()\n",
    "\n",
    "def out(name, value, forma=\".3\", unit=\"\"):\n",
    "    display(Latex(rf\"${name} = {value:{forma}} \\text{{ {unit}}}$\"))"
   ]
  },
  {
   "cell_type": "markdown",
   "metadata": {},
   "source": [
    "# Task 1 : Natural frequency"
   ]
  },
  {
   "cell_type": "markdown",
   "metadata": {},
   "source": [
    "We make the following assumptions :\n",
    "\n",
    "1. We will analyse the bridge under longitudinal flexion\n",
    "1. We consider that the liaison between the HEM140 on the middle of the bridge is such that it can be considered as a full length HEM140 beam in the longitudinal axis.\n",
    "1. Any other element than the HEM140 do not have any structural influence on the behaviour of the bridge (considering the connection consisting of 4 bolts is not sufficient to have them take any effort in their secondary axis), except for their weight. In particular, this means we can consider :\n",
    "$$ EI = \\text{const} = 2*EI_{HEM140} $$\n",
    "4. We modelise the bridge as a beam on two supports, one of which is mobile\n",
    "5. The weight of the cord is considered to be 0.4 kg/m"
   ]
  },
  {
   "cell_type": "markdown",
   "metadata": {},
   "source": [
    "Properties of the different elements, as well as of the bridge, are taken from the C5  table."
   ]
  },
  {
   "cell_type": "markdown",
   "metadata": {},
   "source": [
    "In order to estimate the natural frequency, we will start with reducing the footbridge as a SDOF system, using the method provided [*Systems with distributed mass*, Aline Bönzli].\n",
    "\n",
    "In order to do so, we will modelise the mass of the bridge and it's rigidity in python : (using a precision to the milimeter for the computation)"
   ]
  },
  {
   "cell_type": "code",
   "execution_count": 2,
   "metadata": {},
   "outputs": [],
   "source": [
    "# Properties of steel :\n",
    "E = 210e3 #N/mm²\n",
    "rho = 7850 #kg/m³\n",
    "\n",
    "# Rigidity :\n",
    "EI = 2 * E * (32.9e6) #N.mm²"
   ]
  },
  {
   "cell_type": "code",
   "execution_count": 3,
   "metadata": {},
   "outputs": [
    {
     "name": "stdout",
     "output_type": "stream",
     "text": [
      "[ -300.  -299.  -298. ... 10298. 10299. 10300.]  -  1.0  -  [0. 0. 0. ... 0. 0. 0.]  -  5300\n"
     ]
    }
   ],
   "source": [
    "# Define coordinates :\n",
    "# -  x : longitudinal axis (0 at first appui)\n",
    "x = np.linspace(-300, 10300, 10601)\n",
    "dx = x[1]-x[0] # mm\n",
    "# Lambda utility to get the indice from a position:\n",
    "i = lambda xi : np.argmin(np.abs(x-xi))  # noqa: E731\n",
    "\n",
    "# Define empty mass array (in x coordinatess)\n",
    "m = np.zeros_like(x) #kg/mm\n",
    "\n",
    "print(x, dx, m , i(5000), sep=\"  -  \")"
   ]
  },
  {
   "cell_type": "code",
   "execution_count": 4,
   "metadata": {},
   "outputs": [
    {
     "name": "stdout",
     "output_type": "stream",
     "text": [
      "0.4404\n"
     ]
    }
   ],
   "source": [
    "# Fill the mass array :\n",
    "\n",
    "## Longitudinal constant weight : 2*HEM140 + plates of 40 mm x 1m\n",
    "m[:] = 2*63.2e-3 + (40e-3 * 1 * 1e-3) * rho # kg/mm \n",
    "\n",
    "print(m[0])"
   ]
  },
  {
   "cell_type": "code",
   "execution_count": 5,
   "metadata": {},
   "outputs": [
    {
     "data": {
      "text/latex": [
       "$m_{transversal} = 37.3 \\text{ kg}$"
      ],
      "text/plain": [
       "<IPython.core.display.Latex object>"
      ]
     },
     "metadata": {},
     "output_type": "display_data"
    },
    {
     "data": {
      "text/latex": [
       "$m_{HEA100} = 13.1 \\text{ kg}$"
      ],
      "text/plain": [
       "<IPython.core.display.Latex object>"
      ]
     },
     "metadata": {},
     "output_type": "display_data"
    },
    {
     "data": {
      "text/latex": [
       "$m_{FLA} = 1.55 \\text{ kg}$"
      ],
      "text/plain": [
       "<IPython.core.display.Latex object>"
      ]
     },
     "metadata": {},
     "output_type": "display_data"
    },
    {
     "data": {
      "text/latex": [
       "$m_{IPE180} = 1.3 \\text{ kg}$"
      ],
      "text/plain": [
       "<IPython.core.display.Latex object>"
      ]
     },
     "metadata": {},
     "output_type": "display_data"
    },
    {
     "data": {
      "text/latex": [
       "$m_{ROR} = 7.54 \\text{ kg}$"
      ],
      "text/plain": [
       "<IPython.core.display.Latex object>"
      ]
     },
     "metadata": {},
     "output_type": "display_data"
    },
    {
     "data": {
      "text/latex": [
       "$m_{tubes} = 0.0675 \\text{ kg}$"
      ],
      "text/plain": [
       "<IPython.core.display.Latex object>"
      ]
     },
     "metadata": {},
     "output_type": "display_data"
    },
    {
     "data": {
      "text/latex": [
       "$m_{rondelles} = 0.108 \\text{ kg}$"
      ],
      "text/plain": [
       "<IPython.core.display.Latex object>"
      ]
     },
     "metadata": {},
     "output_type": "display_data"
    }
   ],
   "source": [
    "## Transversal elements weight gets transfered to the HEM beams only at the location of the bolts\n",
    "## Therefore, we will add them as point masses at the center of the bolt\n",
    "## The transversal elements consist each time of : \n",
    "#   - 1* HEA100 x 783 mm\n",
    "m_HEA100 = 16.7 * 0.783 #kg\n",
    "#   - 4*FLA 90.20 L=110mm\n",
    "m_FLA = 14.1 * 0.110 #kg\n",
    "#   - 2*IPET 180 L=155mm(however, cut in triangle with a triangle of 50x155mm removed)\n",
    "m_IPE180 = 9.40 *0.155 - (0.050 * 0.155 * 0.0053)/2 * rho #kg\n",
    "#   - 2*ROR 51.5.0 L=1330 mm\n",
    "m_ROR = 5.67 * 1.33 #kg\n",
    "#   - 2*tubes dint=35mm, dext=38mm, L=50mm\n",
    "m_tubes = (np.pi * ((19e-3)**2 - (17.5e-3)**2) * 50e-3) * rho #kg\n",
    "#   - 2*rondelles\n",
    "m_rondelles = (np.pi * (27e-3)**2 * 6e-3) * rho #kg\n",
    "\n",
    "m_transversal = 1*m_HEA100 + 4*m_FLA + 2*m_IPE180 + 2*m_ROR + 2*m_tubes + 2*m_rondelles\n",
    "\n",
    "out(\"m_{transversal}\", m_transversal, \".3n\", \"kg\")\n",
    "out(\"m_{HEA100}\", m_HEA100, \".3n\", \"kg\")\n",
    "out(\"m_{FLA}\", m_FLA, \".3n\", \"kg\")\n",
    "out(\"m_{IPE180}\", m_IPE180, \".3n\", \"kg\")\n",
    "out(\"m_{ROR}\", m_ROR, \".3n\", \"kg\")\n",
    "out(\"m_{tubes}\", m_tubes, \".3n\", \"kg\")\n",
    "out(\"m_{rondelles}\", m_rondelles, \".3n\", \"kg\")\n",
    "\n",
    "# These transveral elements are present at 6 locations :\n",
    "x_trans = np.array([0, 2000, 4000, 6000, 8000, 10000]) #mm\n",
    "\n",
    "# Bolts are present 30 mm from those locations\n",
    "x_bolts = np.concatenate((x_trans-30, x_trans+30))\n",
    "\n",
    "# Add the mass from the transversal elements :\n",
    "m[[i(x) for x in x_bolts]] += m_transversal / 2 / dx #dividing by dx ensures the mass is fully considered, even for dx != 1"
   ]
  },
  {
   "cell_type": "code",
   "execution_count": 6,
   "metadata": {},
   "outputs": [],
   "source": [
    "# Add the cord's mass\n",
    "rho_cord = 0.400 #kg/m\n",
    "\n",
    "# We consider  the poles have all to support 2m of cord, except the poles at the end who supports only 1m\n",
    "m_cord = 2* rho_cord #kg\n",
    "\n",
    "x_bolts_2m = np.concatenate((x_trans[1:-1]-30, x_trans[1:-1]+30))\n",
    "x_bolts_1m = np.concatenate((x_trans[[0,-1]]-30, x_trans[[0,-1]]+30))\n",
    "\n",
    "m[[i(x) for x in x_bolts_2m]] += m_cord/2 /dx\n",
    "m[[i(x) for x in x_bolts_1m]] += m_cord/4 /dx"
   ]
  },
  {
   "cell_type": "code",
   "execution_count": 7,
   "metadata": {},
   "outputs": [
    {
     "data": {
      "image/png": "[encoded data removed]",
      "text/plain": [
       "<seaborn._core.plot.Plotter at 0x21313465e10>"
      ]
     },
     "execution_count": 7,
     "metadata": {
      "image/png": {
       "height": 378.25,
       "width": 509.15
      }
     },
     "output_type": "execute_result"
    }
   ],
   "source": [
    "(\n",
    "    so.Plot(x=x, y=m)\n",
    "    .add(so.Dot(pointsize=1.5))\n",
    "    .add(so.Line(alpha=0.5))\n",
    "    .label(x=\"x [mm]\", y=\"Mass [kg/mm]\")\n",
    "    .plot()\n",
    ")"
   ]
  },
  {
   "cell_type": "markdown",
   "metadata": {},
   "source": [
    "Now that we have the mass, we need to define the bending shape. We will opt for a sine function, which will be equal to 0 at each support ($x = 0 $ and $x = 10000$ [mm]). We consider that outside the supports, the beam will also deform in a sin shape.\n",
    "$$ \\psi(x) = \\text{sin}(\\frac{x*\\pi}{10 \\text{ m}}) $$\n",
    "Which yields :\n",
    "$$ \\psi''(x) = \\psi(x) * \\left (\\frac{\\pi}{10 \\text{ m}} \\right )^2 $$"
   ]
  },
  {
   "cell_type": "code",
   "execution_count": 8,
   "metadata": {},
   "outputs": [],
   "source": [
    "psi = np.sin(x*np.pi/10000)\n",
    "psi_pp = psi * (np.pi/10000)**2 # -/mm²"
   ]
  },
  {
   "cell_type": "code",
   "execution_count": 9,
   "metadata": {},
   "outputs": [
    {
     "data": {
      "image/png": "[encoded data removed]",
      "text/plain": [
       "<Figure size 600x300 with 1 Axes>"
      ]
     },
     "metadata": {},
     "output_type": "display_data"
    }
   ],
   "source": [
    "plt.figure(figsize=(6, 3))\n",
    "plt.plot(x, psi)\n",
    "plt.plot(x, np.zeros_like(x), c=\"k\")\n",
    "plt.scatter([0, 10000], [0,0])\n",
    "plt.scatter(x[i(5000)], psi[i(5000)])\n",
    "plt.gca().invert_yaxis()\n",
    "plt.title(\"Deformation fonction\")\n",
    "plt.xlabel(\"x [mm]\")\n",
    "plt.ylabel(\"$\\psi(x)$\")\n",
    "\n",
    "plt.show()"
   ]
  },
  {
   "cell_type": "markdown",
   "metadata": {},
   "source": [
    "**Equivalent mass and stiffness**\n",
    "\n",
    "Now, we might compute the equivalent mass $m^{*}$ and stiffness $k^{*}$:\n",
    "\n",
    "$$ m^{*} = \\int_{0}^{L} m(x) * \\psi^2(x) \\text{ d}x $$\n",
    "$$ k^{*} = EI * \\int_{0}^{L} \\psi''^2(x) \\text{ d}x $$\n",
    "\n",
    "(considering that there are no normal force in the beam and EI is constant)"
   ]
  },
  {
   "cell_type": "code",
   "execution_count": 10,
   "metadata": {},
   "outputs": [],
   "source": [
    "# Define integration algorithm\n",
    "\n",
    "#integrate = np.trapz\n",
    "integrate = lambda y, dx=1 : y.sum()*dx  # Simpler and sure to include correctly the point masses # noqa: E731"
   ]
  },
  {
   "cell_type": "code",
   "execution_count": 11,
   "metadata": {},
   "outputs": [
    {
     "data": {
      "text/latex": [
       "$m^* = 2298 \\text{  kg}$"
      ],
      "text/plain": [
       "<IPython.core.display.Latex object>"
      ]
     },
     "metadata": {},
     "output_type": "display_data"
    },
    {
     "data": {
      "text/latex": [
       "$k^* = 673 \\text{  kN/m}$"
      ],
      "text/plain": [
       "<IPython.core.display.Latex object>"
      ]
     },
     "metadata": {},
     "output_type": "display_data"
    }
   ],
   "source": [
    "m_star = integrate(m * psi**2, dx=dx) #kg\n",
    "k_star = EI * integrate(psi_pp**2, dx=dx) *1e3 #N/m\n",
    "\n",
    "out(\"m^*\", m_star, \".0f\", \" kg\")\n",
    "out(\"k^*\", k_star/1000, \".0f\", \" kN/m\")"
   ]
  },
  {
   "cell_type": "markdown",
   "metadata": {},
   "source": [
    "Now that we have reduced the system to a SDOF model, we can compute the natural period :\n",
    "\n",
    "$$ \\omega_n = \\sqrt{\\frac{k^*}{m^*}} $$"
   ]
  },
  {
   "cell_type": "code",
   "execution_count": 12,
   "metadata": {},
   "outputs": [
    {
     "data": {
      "text/latex": [
       "$\\omega_n = 17.1 \\text{ [rad/s]}$"
      ],
      "text/plain": [
       "<IPython.core.display.Latex object>"
      ]
     },
     "metadata": {},
     "output_type": "display_data"
    },
    {
     "data": {
      "text/latex": [
       "$T_n = 0.367 \\text{ s}$"
      ],
      "text/plain": [
       "<IPython.core.display.Latex object>"
      ]
     },
     "metadata": {},
     "output_type": "display_data"
    },
    {
     "data": {
      "text/latex": [
       "$f_n = 2.72 \\text{ Hz}$"
      ],
      "text/plain": [
       "<IPython.core.display.Latex object>"
      ]
     },
     "metadata": {},
     "output_type": "display_data"
    }
   ],
   "source": [
    "omega_n = (k_star/m_star)**0.5\n",
    "T_n = 2*np.pi / omega_n\n",
    "f_n = omega_n /2 /np.pi\n",
    "\n",
    "out(r\"\\omega_n\", omega_n, \".3\", \"[rad/s]\")\n",
    "out(r\"T_n\", T_n, \".3\", \"s\")\n",
    "out(r\"f_n\", f_n, \".3\", \"Hz\")"
   ]
  },
  {
   "cell_type": "markdown",
   "metadata": {},
   "source": [
    "# Task 2 : Response without tuned mass damper"
   ]
  },
  {
   "cell_type": "markdown",
   "metadata": {},
   "source": [
    "We now compute the response of the bridge in two different load cases :\n",
    "\n",
    "- Load case 1 : A person jumping at the natural frequency\n",
    "- Load case 2 : A person walking across the bridge"
   ]
  },
  {
   "cell_type": "markdown",
   "metadata": {},
   "source": [
    "## Load case 1 : A person jumping at the natural frequency (2.72 Hz)"
   ]
  },
  {
   "cell_type": "markdown",
   "metadata": {},
   "source": [
    "We make the following assumptions : \n",
    "\n",
    "1. The person is jumping at the center of the bridge (the point of maximum amplitude of the mode)\n",
    "2. The damping ratio of the bridge is 2%. This comes from a value cited multiple times in the lesson for steel structures (e.g. Week#10, \"Modeling of damping\", slide 4 or Week#1, \"Introduction\", slide 46)"
   ]
  },
  {
   "cell_type": "markdown",
   "metadata": {},
   "source": [
    "Therefore, we use the following formula (Week#12 of the lesson) to compute the maximum acceleration under this load case :\n",
    "\n",
    "$$\n",
    "a_{\\max }=\\omega_j^2 \\cdot y \\cdot \\alpha \\cdot \\frac{1}{2 \\zeta}\n",
    "$$\n",
    "\n",
    "With :\n",
    "\n",
    "- $\\omega_j$ the structural frequency that is in resonance with the forcing function (in this case, $\\omega_n$)\n",
    "- $y$ the static deflection of the bridge at mid-span for the weight $G$ of the person standing at the point of maximum amplitude of the mode. We will take (typical assumption) $G = 700 N$\n",
    "- $\\alpha$ the fourier coefficient of the relevant harmonic. Here, we will take $\\alpha = 1.7$, which corresponds to a person jumping at 3 Hz.\n",
    "- $\\zeta$ The damping ratio of the bridge : $\\zeta = 0.02$"
   ]
  },
  {
   "cell_type": "markdown",
   "metadata": {},
   "source": [
    "To compute $y$, we will use the SDOF system we computed earlier. As such, we have :\n",
    "\n",
    "$$ y = \\frac{G}{k^*}$$"
   ]
  },
  {
   "cell_type": "code",
   "execution_count": 13,
   "metadata": {},
   "outputs": [
    {
     "name": "stdout",
     "output_type": "stream",
     "text": [
      "EI : 1.38e+13 N.mm² - omega_n : 17.1 rad/s\n"
     ]
    }
   ],
   "source": [
    "# Data\n",
    "G = 700 #N\n",
    "L = 10e3 #mm\n",
    "damp = 0.02\n",
    "alpha = 1.7\n",
    "\n",
    "# Previous results\n",
    "print(f\"EI : {EI:.2e} N.mm² - omega_n : {omega_n:.1f} rad/s\")"
   ]
  },
  {
   "cell_type": "code",
   "execution_count": 14,
   "metadata": {},
   "outputs": [
    {
     "data": {
      "text/latex": [
       "$y = 1.04 \\text{ mm}$"
      ],
      "text/plain": [
       "<IPython.core.display.Latex object>"
      ]
     },
     "metadata": {},
     "output_type": "display_data"
    }
   ],
   "source": [
    "# Computing y :\n",
    "y = G / k_star *1e3#mm\n",
    "\n",
    "out(\"y\", y, \".3\", \"mm\")"
   ]
  },
  {
   "cell_type": "code",
   "execution_count": 15,
   "metadata": {},
   "outputs": [
    {
     "data": {
      "text/latex": [
       "$a_{max} = 12.9 \\text{ m/s²}$"
      ],
      "text/plain": [
       "<IPython.core.display.Latex object>"
      ]
     },
     "metadata": {},
     "output_type": "display_data"
    }
   ],
   "source": [
    "# Computing a_max\n",
    "a_max = omega_n**2 *y * alpha /2 /damp *1e-3 #m/s²\n",
    "\n",
    "out(\"a_{max}\", a_max, \".3\", \"m/s²\")\n"
   ]
  },
  {
   "attachments": {
    "Graph.png": {
     "image/png": "[encoded data removed]"
    }
   },
   "cell_type": "markdown",
   "metadata": {},
   "source": [
    "## Load case 2 : A person walking accross the bridge\n",
    "\n",
    "For a person walking accross the bridge, we will use a different formula :\n",
    "\n",
    "$$\n",
    "a_{\\max }=\\omega_j^2 \\cdot y \\cdot \\alpha \\cdot \\phi\n",
    "$$\n",
    "\n",
    "Where $\\phi$ is a coefficient taking into account the damping, but also the fact that since the person is walking accross the bridge, the number of cycles is limited and the force is not always acting on the most effective point.\n",
    "This coefficient can be deternined from the following graph [Bachmann H et al. (1997). *Vibration problems in structures: practical guidelines*. Birkhäuser\n",
    "Verlag, 1995.] : \n",
    "\n",
    "![Graph.png](attachment:Graph.png)\n"
   ]
  },
  {
   "cell_type": "markdown",
   "metadata": {},
   "source": [
    "We will consider a footstep length of $0.7 m$ [Bachmann et al. (1997)], which means there will be, for a span of $10 \\text{ m}$, $n = \\frac{10}{0.7} = 14.3$ cycles per span. For a damping ratio $\\zeta = 0.02$, this represents a dynamic amplification factor of $\\psi = 14.5$.\n",
    "\n",
    "We also need to change the fourier coefficient $\\alpha$, which for a person walking we will take $\\alpha = 0.4$"
   ]
  },
  {
   "cell_type": "code",
   "execution_count": 16,
   "metadata": {},
   "outputs": [
    {
     "data": {
      "text/latex": [
       "$a_{max, 2} = 1.77 \\text{ m/s²}$"
      ],
      "text/plain": [
       "<IPython.core.display.Latex object>"
      ]
     },
     "metadata": {},
     "output_type": "display_data"
    }
   ],
   "source": [
    "psi = 14.5\n",
    "alpha_2=0.4\n",
    "\n",
    "# Computing a_max\n",
    "a_max_2 = omega_n**2 *y*1e-3 * alpha_2 * psi #m/s²\n",
    "out(\"a_{max, 2}\", a_max_2, \".3\", \"m/s²\")"
   ]
  },
  {
   "cell_type": "markdown",
   "metadata": {},
   "source": [
    "**Why is the response due to Load case 2 smaller than for Load case 1 ?**\n",
    "\n",
    "There are multiple reasons explaining why the response from load case 2 is smaller than the response from load case 1 :\n",
    "\n",
    "- Firstly, a person walking generates less energy than a person jumping, which explains partly why the response is smaller.\n",
    "- Secondly, in load case 2 the person is considered to be walking accross the bridge. As such, the person is not always at the most efficient point (the middle of the bridge) and the number of cycles is limited. As such, the steady-state will not be reached."
   ]
  },
  {
   "cell_type": "markdown",
   "metadata": {},
   "source": [
    "# Task 3 : Response with Tuned Mass Damper (TMD)"
   ]
  },
  {
   "attachments": {
    "image.png": {
     "image/png": "[encoded data removed]"
    }
   },
   "cell_type": "markdown",
   "metadata": {},
   "source": [
    "The problem can be modelised as the following one (source: Week#12 of the lesson):\n",
    "\n",
    "![image.png](attachment:image.png)\n",
    "\n",
    "We are in the presence of a 2 degrees of freedom system, with the first degree of freedom corresponding to the SDOF calculed in Task 1 (on the schema, with mass $m_0 = m^*$, stifness $k_0 = k^*$  and displacement $x_0 (t)$) and the second degree of freedom being the TMD (with mass $m$, stiffness $k$ and displacement $x_d$).\n",
    "\n",
    "We are going to estimate the steady-state response of the bridge with the TMD to an harmonic excitation with the natural frequency of the bridge. As such, the excitation on the first degree of freedom will be modelised as $f(t) = f_0 \\cdot e^{i\\omega_n t}$."
   ]
  },
  {
   "cell_type": "markdown",
   "metadata": {},
   "source": [
    "As we are analysing the steady-state response, the response will have the same frequency as the excitation, which yields :\n",
    "$$ x_0(t) = x_0  \\cdot e^{i\\omega_n t} \\rightarrow \\ddot{x_0}(t) = - \\omega_n^2 \\cdot x_0 \\cdot e^{i\\omega_n t} $$\n",
    "\n",
    "As such, the maximum acceleration will be $a_{max} = \\omega_n^2 \\cdot x_0$"
   ]
  },
  {
   "cell_type": "markdown",
   "metadata": {},
   "source": [
    "In order to get $x_0$, we will compute the Dynamic Amplification Factor, using the following result of the lesson :\n",
    "$$\n",
    "DAF = \\frac{\\left|x_0\\right|}{f_0 / k_0}=\\frac{\\sqrt{A^2+\\left(2 \\zeta_d\\right)^2 B^2}}{\\sqrt{C^2+\\left(2 \\zeta_d\\right)^2 D^2}}\n",
    "$$\n"
   ]
  },
  {
   "cell_type": "markdown",
   "metadata": {},
   "source": [
    "\n",
    "With : \n",
    "\n",
    "- $A = \\omega_0^2\\left[\\omega_d^2-\\omega^2\\right]$\n",
    "- $B = \\omega_d \\cdot \\omega \\cdot \\omega_0^2$\n",
    "- $C = \\omega^4-\\left[\\omega_0^2+(1+\\mu) \\omega_d^2\\right] \\omega^2+\\omega_0^2 \\omega_d^2$\n",
    "- $D = \\zeta_d \\cdot \\omega_d \\omega\\left[\\omega_0^2-(1+\\mu) \\omega^2\\right]$"
   ]
  },
  {
   "cell_type": "markdown",
   "metadata": {},
   "source": [
    "And :\n",
    "\n",
    "- $\\mu$ : Mass ratio ($\\mu=m / m_0$)\n",
    "- $\\zeta_d$ : Damping ratio of TMD \n",
    "- $\\omega_0$ : Frequency of structure ($\\omega_0 = \\omega_n$)\n",
    "- $\\omega_d$ : Frequency of TMD ($\\omega_d = 2.44 \\cdot 2\\pi \\text{ rad/s}$)\n",
    "- $\\omega$ : Frequency of excitation ($\\omega = \\omega_n$)"
   ]
  },
  {
   "cell_type": "markdown",
   "metadata": {},
   "source": [
    "Since $ \\omega = \\omega_0 = \\omega_n $, we can rewrite A, B, C, D :\n",
    "\n",
    "- $A = \\omega_n^2 \\omega_d^2 - \\omega_n^4 $\n",
    "- $B = \\omega_d  \\omega_n^3$\n",
    "- $C = \\omega_n^4-\\left[\\omega_n^2+(1+\\mu) \\omega_d^2\\right] \\omega_n^2+\\omega_n^2 \\omega_d^2 = - \\mu \\omega_d^2 \\omega_n^2$\n",
    "- $D = \\zeta_d \\cdot \\omega_d \\omega_n \\left[\\omega_n^2-(1+\\mu) \\omega_n^2\\right] = - \\zeta_d \\cdot \\mu \\cdot \\omega_d \\omega_n^3$"
   ]
  },
  {
   "cell_type": "code",
   "execution_count": 17,
   "metadata": {},
   "outputs": [],
   "source": [
    "# Given\n",
    "m_d = 140 #kg\n",
    "omega_d = 2.44 *2 *np.pi #rad/s\n",
    "zeta_d = 0.12"
   ]
  },
  {
   "cell_type": "code",
   "execution_count": 18,
   "metadata": {},
   "outputs": [
    {
     "data": {
      "text/latex": [
       "$\\mu = 0.061 \\text{ }$"
      ],
      "text/plain": [
       "<IPython.core.display.Latex object>"
      ]
     },
     "metadata": {},
     "output_type": "display_data"
    },
    {
     "name": "stdout",
     "output_type": "stream",
     "text": [
      "A : -1.7e+04, B : 7.69e+04, C : -4.19e+03, D : -5.62e+02\n"
     ]
    },
    {
     "data": {
      "text/latex": [
       "$DAF = \\frac{|x_0|}{f_0/k_0} = 5.973 \\text{ }$"
      ],
      "text/plain": [
       "<IPython.core.display.Latex object>"
      ]
     },
     "metadata": {},
     "output_type": "display_data"
    }
   ],
   "source": [
    "# Compute A, B, C, D\n",
    "mu = m_d / m_star\n",
    "out(r\"\\mu\", mu, \".3f\",\"\")\n",
    "\n",
    "A = omega_n**2 * omega_d**2 - omega_n**4\n",
    "B = omega_d * omega_n**3\n",
    "C = - mu * omega_d**2 * omega_n**2\n",
    "D = - zeta_d * mu * omega_d * omega_n**3\n",
    "\n",
    "print(f\"A : {A:.3}, B : {B:.3}, C : {C:.3}, D : {D:.3}\")\n",
    "\n",
    "#compute the DAF :\n",
    "DAF = (A**2 + (2*zeta_d*B)**2)**0.5 / (C**2 + (2*zeta_d*D)**2)**0.5\n",
    "\n",
    "out(r\"DAF = \\frac{|x_0|}{f_0/k_0}\", DAF, \".3f\")"
   ]
  },
  {
   "cell_type": "markdown",
   "metadata": {},
   "source": [
    "We will consider, in a similar fashion to what we did in Task 2, that the forcing function is the first harmonic of someone jumping, and therefore that $f_0 = \\alpha_{jumping} * \\mathrm{G} $, with $\\mathrm{G} = 700 \\text{ N}$\n",
    "\n",
    "With this result, we can compute $\\left | x_0 \\right |$ and therefore $a_{max}$ :"
   ]
  },
  {
   "cell_type": "code",
   "execution_count": 19,
   "metadata": {},
   "outputs": [
    {
     "data": {
      "text/latex": [
       "$f_0 = 1190 \\text{ N}$"
      ],
      "text/plain": [
       "<IPython.core.display.Latex object>"
      ]
     },
     "metadata": {},
     "output_type": "display_data"
    },
    {
     "data": {
      "text/latex": [
       "$|x_0| = 0.0106 \\text{ m}$"
      ],
      "text/plain": [
       "<IPython.core.display.Latex object>"
      ]
     },
     "metadata": {},
     "output_type": "display_data"
    },
    {
     "data": {
      "text/latex": [
       "$a_{max} = 3.09 \\text{ m/s²}$"
      ],
      "text/plain": [
       "<IPython.core.display.Latex object>"
      ]
     },
     "metadata": {},
     "output_type": "display_data"
    }
   ],
   "source": [
    "f_0 = alpha * G #N\n",
    "out(\"f_0\", f_0, \".0f\", \"N\")\n",
    "\n",
    "x_0 = f_0 / k_star * DAF #m\n",
    "out(\"|x_0|\", x_0, unit=\"m\")\n",
    "\n",
    "a_max_3 = (omega_n)**2 * x_0 #m/s²\n",
    "out(\"a_{max}\", a_max_3, unit=\"m/s²\")"
   ]
  }
 ],
 "metadata": {
  "kernelspec": {
   "display_name": "Basic",
   "language": "python",
   "name": "python3"
  },
  "language_info": {
   "codemirror_mode": {
    "name": "ipython",
    "version": 3
   },
   "file_extension": ".py",
   "mimetype": "text/x-python",
   "name": "python",
   "nbconvert_exporter": "python",
   "pygments_lexer": "ipython3",
   "version": "3.11.7"
  }
 },
 "nbformat": 4,
 "nbformat_minor": 2
}
